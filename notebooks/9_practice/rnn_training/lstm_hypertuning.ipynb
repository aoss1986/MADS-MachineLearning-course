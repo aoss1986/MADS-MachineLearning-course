{
 "cells": [
  {
   "cell_type": "code",
   "execution_count": 1,
   "metadata": {},
   "outputs": [],
   "source": [
    "from pathlib import Path\n",
    "import gin\n",
    "import numpy as np\n",
    "import torch\n",
    "from typing import List\n",
    "from torch.nn.utils.rnn import pad_sequence\n",
    "from mltrainer import rnn_models, Trainer\n",
    "from torch import optim\n",
    "\n",
    "from mads_datasets import datatools"
   ]
  },
  {
   "cell_type": "code",
   "execution_count": 2,
   "metadata": {},
   "outputs": [
    {
     "name": "stderr",
     "output_type": "stream",
     "text": [
      "\u001b[32m2024-11-25 18:16:13.955\u001b[0m | \u001b[1mINFO    \u001b[0m | \u001b[36mmads_datasets.base\u001b[0m:\u001b[36mdownload_data\u001b[0m:\u001b[36m121\u001b[0m - \u001b[1mFolder already exists at /home/asanchezsa/.cache/mads_datasets/gestures\u001b[0m\n",
      "100%|\u001b[38;2;30;71;6m██████████\u001b[0m| 2600/2600 [00:00<00:00, 4392.60it/s]\n",
      "100%|\u001b[38;2;30;71;6m██████████\u001b[0m| 651/651 [00:00<00:00, 4182.79it/s]\n"
     ]
    }
   ],
   "source": [
    "from mads_datasets import DatasetFactoryProvider, DatasetType\n",
    "from mltrainer.preprocessors import PaddedPreprocessor\n",
    "preprocessor = PaddedPreprocessor()\n",
    "\n",
    "gesturesdatasetfactory = DatasetFactoryProvider.create_factory(DatasetType.GESTURES)\n",
    "batch_size = 32\n",
    "streamers = gesturesdatasetfactory.create_datastreamer(batchsize=batch_size, preprocessor=preprocessor)\n",
    "train = streamers[\"train\"]\n",
    "valid = streamers[\"valid\"]"
   ]
  },
  {
   "cell_type": "code",
   "execution_count": 3,
   "metadata": {},
   "outputs": [
    {
     "data": {
      "text/plain": [
       "(torch.Size([32, 30, 3]),\n",
       " tensor([ 5,  4,  5,  6,  4, 14, 15,  7, 12,  1, 14, 12, 16,  4,  2,  9,  1, 16,\n",
       "          2, 17, 14,  9,  4,  3,  8, 19,  3, 16,  6, 13, 13,  7]))"
      ]
     },
     "execution_count": 3,
     "metadata": {},
     "output_type": "execute_result"
    }
   ],
   "source": [
    "trainstreamer = train.stream()\n",
    "validstreamer = valid.stream()\n",
    "x, y = next(iter(trainstreamer))\n",
    "x.shape, y"
   ]
  },
  {
   "cell_type": "code",
   "execution_count": 4,
   "metadata": {},
   "outputs": [
    {
     "data": {
      "text/plain": [
       "epochs: 10\n",
       "metrics: [Accuracy]\n",
       "logdir: gestures\n",
       "train_steps: 81\n",
       "valid_steps: 20\n",
       "reporttypes: [<ReportTypes.GIN: 1>, <ReportTypes.TENSORBOARD: 2>, <ReportTypes.MLFLOW: 3>]\n",
       "optimizer_kwargs: {'lr': 0.001, 'weight_decay': 1e-05}\n",
       "scheduler_kwargs: {'factor': 0.2, 'patience': 5}\n",
       "earlystop_kwargs: None"
      ]
     },
     "execution_count": 4,
     "metadata": {},
     "output_type": "execute_result"
    }
   ],
   "source": [
    "from mltrainer import TrainerSettings, ReportTypes\n",
    "from mltrainer.metrics import Accuracy\n",
    "\n",
    "accuracy = Accuracy()\n",
    "\n",
    "settings = TrainerSettings(\n",
    "    epochs=10,\n",
    "    metrics=[accuracy],\n",
    "    logdir=Path(\"gestures\"),\n",
    "    train_steps=len(train),\n",
    "    valid_steps=len(valid),\n",
    "    reporttypes=[ReportTypes.GIN, ReportTypes.TENSORBOARD, ReportTypes.MLFLOW],\n",
    "    scheduler_kwargs={\"factor\": 0.2, \"patience\": 5},\n",
    "    earlystop_kwargs=None\n",
    ")\n",
    "settings"
   ]
  },
  {
   "cell_type": "code",
   "execution_count": 5,
   "metadata": {},
   "outputs": [],
   "source": [
    "import sys\n",
    "from pathlib import Path\n",
    "\n",
    "# Add the directory containing mymodels.py to the system path\n",
    "sys.path.append(str(Path('/home/asanchezsa/dl-training/MADS-MachineLearning-course/notebooks/9_practice').resolve()))\n",
    "\n",
    "import mymodels\n",
    "\n",
    "model = mymodels.LSTM_HyperModel(input_dim=3, hidden_dim=100, layer_dim=5, output_dim=20).to(\"cpu\")"
   ]
  },
  {
   "cell_type": "code",
   "execution_count": 6,
   "metadata": {},
   "outputs": [],
   "source": [
    "import torch.optim as optim\n",
    "from mltrainer import metrics\n",
    "optimizer = optim.Adam\n",
    "loss_fn = torch.nn.CrossEntropyLoss()\n",
    "accuracy = metrics.Accuracy()"
   ]
  },
  {
   "cell_type": "code",
   "execution_count": 7,
   "metadata": {},
   "outputs": [
    {
     "data": {
      "text/plain": [
       "tensor(0.0625)"
      ]
     },
     "execution_count": 7,
     "metadata": {},
     "output_type": "execute_result"
    }
   ],
   "source": [
    "yhat = model(x.to(\"cpu\"))\n",
    "accuracy(y.to(\"cpu\"), yhat)"
   ]
  },
  {
   "cell_type": "code",
   "execution_count": 8,
   "metadata": {},
   "outputs": [
    {
     "data": {
      "text/plain": [
       "<Experiment: artifact_location='/home/asanchezsa/dl-training/MADS-MachineLearning-course/notebooks/9_practice/rnn_training/mlruns/3', creation_time=1732551876214, experiment_id='3', last_update_time=1732551876214, lifecycle_stage='active', name='LSTM_hypertuningmodel', tags={}>"
      ]
     },
     "execution_count": 8,
     "metadata": {},
     "output_type": "execute_result"
    }
   ],
   "source": [
    "import mlflow\n",
    "\n",
    "mlflow.set_tracking_uri(\"sqlite:///mlflow.db\")\n",
    "mlflow.set_experiment(\"LSTM_hypertuningmodel\")"
   ]
  },
  {
   "cell_type": "code",
   "execution_count": 9,
   "metadata": {},
   "outputs": [],
   "source": [
    "from hyperopt import fmin, tpe, hp, STATUS_OK, Trials\n",
    "from hyperopt.pyll import scope"
   ]
  },
  {
   "cell_type": "code",
   "execution_count": 10,
   "metadata": {},
   "outputs": [],
   "source": [
    "modeldir = Path(\"../../models/lstm\").resolve()\n",
    "if not modeldir.exists():\n",
    "    modeldir.mkdir()\n",
    "    print(f\"Created {modeldir}\")"
   ]
  },
  {
   "cell_type": "code",
   "execution_count": 11,
   "metadata": {},
   "outputs": [],
   "source": [
    "import torch.optim as optim\n",
    "from mltrainer import metrics, Trainer, TrainerSettings, ReportTypes\n",
    "from datetime import datetime\n",
    "\n",
    "# define the objective function for hyperparameter optimization\n",
    "def objective(params):\n",
    "    # Start a new MLflow run for tracking the experiment\n",
    "    with mlflow.start_run():\n",
    "        mlflow.set_tag(\"model\", \"LSTM\")\n",
    "        mlflow.set_tag(\"dev\", \"ASanchezSaavedra\")\n",
    "        # log hyperparameters to MLflow\n",
    "        mlflow.log_params(params)\n",
    "        mlflow.log_param(\"batch_size\", f\"{batch_size}\")\n",
    "\n",
    "        # Initialize the optimizer, loss function and accuracy metric\n",
    "        optimizer = optim.Adam\n",
    "        loss_fn = torch.nn.CrossEntropyLoss()\n",
    "        accuracy = metrics.Accuracy()\n",
    "\n",
    "        # Instantiate the model with the given hyperparameters\n",
    "        model = mymodels.LSTM_HyperModel(**params)\n",
    "        # train the model using a custom train loop\n",
    "        trainer = Trainer(\n",
    "            model=model,\n",
    "            settings=settings,\n",
    "            loss_fn=loss_fn,\n",
    "            optimizer=optimizer,\n",
    "            traindataloader=trainstreamer,\n",
    "            validdataloader=validstreamer,\n",
    "            scheduler=optim.lr_scheduler.ReduceLROnPlateau,\n",
    "            device=\"cpu\",\n",
    "        )\n",
    "        trainer.loop()\n",
    "\n",
    "        # save the trained model with a timestamp\n",
    "        tag = datetime.now().strftime(\"%Y%m%d-%H%M\")\n",
    "        modelpath = modeldir / (tag + \"model.pt\")\n",
    "        torch.save(model, modelpath)\n",
    "\n",
    "        # Log the saved model as an artifact in MLflow\n",
    "        mlflow.log_artifact(local_path=modelpath, artifact_path=\"pytorch_models\")\n",
    "        return {'loss' : trainer.test_loss, 'status': STATUS_OK}"
   ]
  },
  {
   "cell_type": "code",
   "execution_count": 15,
   "metadata": {},
   "outputs": [],
   "source": [
    "search_space = {\n",
    "    \"input_dim\": 3,\n",
    "    \"hidden_dim\": scope.int(hp.quniform(\"hidden_dim\", 50, 200, 10)),\n",
    "    \"layer_dim\": scope.int(hp.quniform(\"layer_dim\", 1, 5, 1)),\n",
    "    \"output_dim\": 20,\n",
    "}"
   ]
  },
  {
   "cell_type": "code",
   "execution_count": 16,
   "metadata": {},
   "outputs": [
    {
     "name": "stdout",
     "output_type": "stream",
     "text": [
      "  0%|          | 0/3 [00:00<?, ?trial/s, best loss=?]"
     ]
    },
    {
     "name": "stderr",
     "output_type": "stream",
     "text": [
      "\u001b[32m2024-11-25 18:17:26.005\u001b[0m | \u001b[1mINFO    \u001b[0m | \u001b[36mmltrainer.trainer\u001b[0m:\u001b[36mdir_add_timestamp\u001b[0m:\u001b[36m29\u001b[0m - \u001b[1mLogging to gestures/20241125-181726\u001b[0m\n",
      "  0%|\u001b[38;2;30;71;6m          \u001b[0m| 0/10 [00:00<?, ?it/s]\n",
      "  0%|\u001b[38;2;30;71;6m          \u001b[0m| 0/81 [00:00<?, ?it/s]\u001b[A\n",
      "  7%|\u001b[38;2;30;71;6m7         \u001b[0m| 6/81 [00:00<00:01, 51.97it/s]\u001b[A\n",
      " 15%|\u001b[38;2;30;71;6m#4        \u001b[0m| 12/81 [00:00<00:01, 44.56it/s]\u001b[A\n",
      " 22%|\u001b[38;2;30;71;6m##2       \u001b[0m| 18/81 [00:00<00:01, 50.04it/s]\u001b[A\n",
      " 31%|\u001b[38;2;30;71;6m###       \u001b[0m| 25/81 [00:00<00:00, 57.06it/s]\u001b[A\n",
      " 40%|\u001b[38;2;30;71;6m###9      \u001b[0m| 32/81 [00:00<00:00, 59.29it/s]\u001b[A\n",
      " 49%|\u001b[38;2;30;71;6m####9     \u001b[0m| 40/81 [00:00<00:00, 64.53it/s]\u001b[A\n",
      " 59%|\u001b[38;2;30;71;6m#####9    \u001b[0m| 48/81 [00:00<00:00, 68.02it/s]\u001b[A\n",
      " 69%|\u001b[38;2;30;71;6m######9   \u001b[0m| 56/81 [00:00<00:00, 69.99it/s]\u001b[A\n",
      " 79%|\u001b[38;2;30;71;6m#######9  \u001b[0m| 64/81 [00:01<00:00, 70.12it/s]\u001b[A\n",
      " 89%|\u001b[38;2;30;71;6m########8 \u001b[0m| 72/81 [00:01<00:00, 70.91it/s]\u001b[A\n",
      " 99%|\u001b[38;2;30;71;6m#########8\u001b[0m| 80/81 [00:01<00:00, 66.31it/s]\u001b[A\n",
      "100%|\u001b[38;2;30;71;6m##########\u001b[0m| 81/81 [00:01<00:00, 63.51it/s]\n",
      "\u001b[32m2024-11-25 18:17:27.875\u001b[0m | \u001b[1mINFO    \u001b[0m | \u001b[36mmltrainer.trainer\u001b[0m:\u001b[36mreport\u001b[0m:\u001b[36m189\u001b[0m - \u001b[1mEpoch 0 train 2.7406 test 2.3984 metric ['0.1344']\u001b[0m\n",
      " 10%|\u001b[38;2;30;71;6m#         \u001b[0m| 1/10 [00:01<00:12,  1.43s/it]\n",
      "  0%|\u001b[38;2;30;71;6m          \u001b[0m| 0/81 [00:00<?, ?it/s]\u001b[A\n",
      " 10%|\u001b[38;2;30;71;6m9         \u001b[0m| 8/81 [00:00<00:00, 73.83it/s]\u001b[A\n",
      " 20%|\u001b[38;2;30;71;6m#9        \u001b[0m| 16/81 [00:00<00:00, 71.73it/s]\u001b[A\n",
      " 30%|\u001b[38;2;30;71;6m##9       \u001b[0m| 24/81 [00:00<00:00, 74.19it/s]\u001b[A\n",
      " 40%|\u001b[38;2;30;71;6m###9      \u001b[0m| 32/81 [00:00<00:00, 74.51it/s]\u001b[A\n",
      " 49%|\u001b[38;2;30;71;6m####9     \u001b[0m| 40/81 [00:00<00:00, 75.50it/s]\u001b[A\n",
      " 59%|\u001b[38;2;30;71;6m#####9    \u001b[0m| 48/81 [00:00<00:00, 75.43it/s]\u001b[A\n",
      " 69%|\u001b[38;2;30;71;6m######9   \u001b[0m| 56/81 [00:00<00:00, 73.80it/s]\u001b[A\n",
      " 79%|\u001b[38;2;30;71;6m#######9  \u001b[0m| 64/81 [00:00<00:00, 63.30it/s]\u001b[A\n",
      " 88%|\u001b[38;2;30;71;6m########7 \u001b[0m| 71/81 [00:01<00:00, 62.35it/s]\u001b[A\n",
      " 98%|\u001b[38;2;30;71;6m#########7\u001b[0m| 79/81 [00:01<00:00, 65.22it/s]\u001b[A\n",
      "100%|\u001b[38;2;30;71;6m##########\u001b[0m| 81/81 [00:01<00:00, 68.25it/s]\n",
      "\u001b[32m2024-11-25 18:17:29.220\u001b[0m | \u001b[1mINFO    \u001b[0m | \u001b[36mmltrainer.trainer\u001b[0m:\u001b[36mreport\u001b[0m:\u001b[36m189\u001b[0m - \u001b[1mEpoch 1 train 2.2063 test 2.0345 metric ['0.2594']\u001b[0m\n",
      " 20%|\u001b[38;2;30;71;6m##        \u001b[0m| 2/10 [00:02<00:11,  1.38s/it]\n",
      "  0%|\u001b[38;2;30;71;6m          \u001b[0m| 0/81 [00:00<?, ?it/s]\u001b[A\n",
      " 10%|\u001b[38;2;30;71;6m9         \u001b[0m| 8/81 [00:00<00:00, 74.05it/s]\u001b[A\n",
      " 20%|\u001b[38;2;30;71;6m#9        \u001b[0m| 16/81 [00:00<00:00, 75.86it/s]\u001b[A\n",
      " 30%|\u001b[38;2;30;71;6m##9       \u001b[0m| 24/81 [00:00<00:00, 74.23it/s]\u001b[A\n",
      " 40%|\u001b[38;2;30;71;6m###9      \u001b[0m| 32/81 [00:00<00:00, 75.06it/s]\u001b[A\n",
      " 49%|\u001b[38;2;30;71;6m####9     \u001b[0m| 40/81 [00:00<00:00, 74.46it/s]\u001b[A\n",
      " 59%|\u001b[38;2;30;71;6m#####9    \u001b[0m| 48/81 [00:00<00:00, 72.63it/s]\u001b[A\n",
      " 69%|\u001b[38;2;30;71;6m######9   \u001b[0m| 56/81 [00:00<00:00, 74.16it/s]\u001b[A\n",
      " 79%|\u001b[38;2;30;71;6m#######9  \u001b[0m| 64/81 [00:00<00:00, 74.17it/s]\u001b[A\n",
      " 89%|\u001b[38;2;30;71;6m########8 \u001b[0m| 72/81 [00:00<00:00, 74.91it/s]\u001b[A\n",
      " 99%|\u001b[38;2;30;71;6m#########8\u001b[0m| 80/81 [00:01<00:00, 73.87it/s]\u001b[A\n",
      "100%|\u001b[38;2;30;71;6m##########\u001b[0m| 81/81 [00:01<00:00, 74.09it/s]\n",
      "\u001b[32m2024-11-25 18:17:30.473\u001b[0m | \u001b[1mINFO    \u001b[0m | \u001b[36mmltrainer.trainer\u001b[0m:\u001b[36mreport\u001b[0m:\u001b[36m189\u001b[0m - \u001b[1mEpoch 2 train 1.7646 test 1.5567 metric ['0.3937']\u001b[0m\n",
      " 30%|\u001b[38;2;30;71;6m###       \u001b[0m| 3/10 [00:04<00:09,  1.32s/it]\n",
      "  0%|\u001b[38;2;30;71;6m          \u001b[0m| 0/81 [00:00<?, ?it/s]\u001b[A\n",
      " 10%|\u001b[38;2;30;71;6m9         \u001b[0m| 8/81 [00:00<00:00, 73.11it/s]\u001b[A\n",
      " 20%|\u001b[38;2;30;71;6m#9        \u001b[0m| 16/81 [00:00<00:00, 74.97it/s]\u001b[A\n",
      " 30%|\u001b[38;2;30;71;6m##9       \u001b[0m| 24/81 [00:00<00:00, 73.84it/s]\u001b[A\n",
      " 40%|\u001b[38;2;30;71;6m###9      \u001b[0m| 32/81 [00:00<00:00, 60.10it/s]\u001b[A\n",
      " 48%|\u001b[38;2;30;71;6m####8     \u001b[0m| 39/81 [00:00<00:00, 61.18it/s]\u001b[A\n",
      " 59%|\u001b[38;2;30;71;6m#####9    \u001b[0m| 48/81 [00:00<00:00, 67.85it/s]\u001b[A\n",
      " 69%|\u001b[38;2;30;71;6m######9   \u001b[0m| 56/81 [00:00<00:00, 70.32it/s]\u001b[A\n",
      " 79%|\u001b[38;2;30;71;6m#######9  \u001b[0m| 64/81 [00:00<00:00, 72.14it/s]\u001b[A\n",
      " 89%|\u001b[38;2;30;71;6m########8 \u001b[0m| 72/81 [00:01<00:00, 69.92it/s]\u001b[A\n",
      " 99%|\u001b[38;2;30;71;6m#########8\u001b[0m| 80/81 [00:01<00:00, 70.30it/s]\u001b[A\n",
      "100%|\u001b[38;2;30;71;6m##########\u001b[0m| 81/81 [00:01<00:00, 68.96it/s]\n",
      "\u001b[32m2024-11-25 18:17:31.804\u001b[0m | \u001b[1mINFO    \u001b[0m | \u001b[36mmltrainer.trainer\u001b[0m:\u001b[36mreport\u001b[0m:\u001b[36m189\u001b[0m - \u001b[1mEpoch 3 train 1.5184 test 1.4162 metric ['0.3891']\u001b[0m\n",
      " 40%|\u001b[38;2;30;71;6m####      \u001b[0m| 4/10 [00:05<00:07,  1.33s/it]\n",
      "  0%|\u001b[38;2;30;71;6m          \u001b[0m| 0/81 [00:00<?, ?it/s]\u001b[A\n",
      " 10%|\u001b[38;2;30;71;6m9         \u001b[0m| 8/81 [00:00<00:00, 74.71it/s]\u001b[A\n",
      " 20%|\u001b[38;2;30;71;6m#9        \u001b[0m| 16/81 [00:00<00:00, 73.38it/s]\u001b[A\n",
      " 31%|\u001b[38;2;30;71;6m###       \u001b[0m| 25/81 [00:00<00:00, 77.01it/s]\u001b[A\n",
      " 41%|\u001b[38;2;30;71;6m####      \u001b[0m| 33/81 [00:00<00:00, 76.47it/s]\u001b[A\n",
      " 51%|\u001b[38;2;30;71;6m#####     \u001b[0m| 41/81 [00:00<00:00, 71.83it/s]\u001b[A\n",
      " 60%|\u001b[38;2;30;71;6m######    \u001b[0m| 49/81 [00:00<00:00, 73.27it/s]\u001b[A\n",
      " 70%|\u001b[38;2;30;71;6m#######   \u001b[0m| 57/81 [00:00<00:00, 72.42it/s]\u001b[A\n",
      " 80%|\u001b[38;2;30;71;6m########  \u001b[0m| 65/81 [00:00<00:00, 67.57it/s]\u001b[A\n",
      " 89%|\u001b[38;2;30;71;6m########8 \u001b[0m| 72/81 [00:01<00:00, 66.97it/s]\u001b[A\n",
      " 98%|\u001b[38;2;30;71;6m#########7\u001b[0m| 79/81 [00:01<00:00, 67.75it/s]\u001b[A\n",
      "100%|\u001b[38;2;30;71;6m##########\u001b[0m| 81/81 [00:01<00:00, 69.02it/s]\n",
      "\u001b[32m2024-11-25 18:17:33.200\u001b[0m | \u001b[1mINFO    \u001b[0m | \u001b[36mmltrainer.trainer\u001b[0m:\u001b[36mreport\u001b[0m:\u001b[36m189\u001b[0m - \u001b[1mEpoch 4 train 1.3198 test 1.2677 metric ['0.4344']\u001b[0m\n",
      " 50%|\u001b[38;2;30;71;6m#####     \u001b[0m| 5/10 [00:06<00:06,  1.35s/it]\n",
      "  0%|\u001b[38;2;30;71;6m          \u001b[0m| 0/81 [00:00<?, ?it/s]\u001b[A\n",
      " 10%|\u001b[38;2;30;71;6m9         \u001b[0m| 8/81 [00:00<00:01, 70.93it/s]\u001b[A\n",
      " 20%|\u001b[38;2;30;71;6m#9        \u001b[0m| 16/81 [00:00<00:00, 70.48it/s]\u001b[A\n",
      " 30%|\u001b[38;2;30;71;6m##9       \u001b[0m| 24/81 [00:00<00:00, 68.31it/s]\u001b[A\n",
      " 38%|\u001b[38;2;30;71;6m###8      \u001b[0m| 31/81 [00:00<00:00, 68.60it/s]\u001b[A\n",
      " 47%|\u001b[38;2;30;71;6m####6     \u001b[0m| 38/81 [00:00<00:00, 68.06it/s]\u001b[A\n",
      " 57%|\u001b[38;2;30;71;6m#####6    \u001b[0m| 46/81 [00:00<00:00, 69.47it/s]\u001b[A\n",
      " 67%|\u001b[38;2;30;71;6m######6   \u001b[0m| 54/81 [00:00<00:00, 68.91it/s]\u001b[A\n",
      " 75%|\u001b[38;2;30;71;6m#######5  \u001b[0m| 61/81 [00:00<00:00, 68.80it/s]\u001b[A\n",
      " 85%|\u001b[38;2;30;71;6m########5 \u001b[0m| 69/81 [00:00<00:00, 71.58it/s]\u001b[A\n",
      " 95%|\u001b[38;2;30;71;6m#########5\u001b[0m| 77/81 [00:01<00:00, 71.98it/s]\u001b[A\n",
      "100%|\u001b[38;2;30;71;6m##########\u001b[0m| 81/81 [00:01<00:00, 70.22it/s]\n",
      "\u001b[32m2024-11-25 18:17:34.516\u001b[0m | \u001b[1mINFO    \u001b[0m | \u001b[36mmltrainer.trainer\u001b[0m:\u001b[36mreport\u001b[0m:\u001b[36m189\u001b[0m - \u001b[1mEpoch 5 train 1.1370 test 1.1091 metric ['0.5422']\u001b[0m\n",
      " 60%|\u001b[38;2;30;71;6m######    \u001b[0m| 6/10 [00:08<00:05,  1.34s/it]\n",
      "  0%|\u001b[38;2;30;71;6m          \u001b[0m| 0/81 [00:00<?, ?it/s]\u001b[A\n",
      "  9%|\u001b[38;2;30;71;6m8         \u001b[0m| 7/81 [00:00<00:01, 69.08it/s]\u001b[A\n",
      " 17%|\u001b[38;2;30;71;6m#7        \u001b[0m| 14/81 [00:00<00:00, 68.32it/s]\u001b[A\n",
      " 27%|\u001b[38;2;30;71;6m##7       \u001b[0m| 22/81 [00:00<00:00, 72.38it/s]\u001b[A\n",
      " 37%|\u001b[38;2;30;71;6m###7      \u001b[0m| 30/81 [00:00<00:00, 73.13it/s]\u001b[A\n",
      " 47%|\u001b[38;2;30;71;6m####6     \u001b[0m| 38/81 [00:00<00:00, 74.44it/s]\u001b[A\n",
      " 57%|\u001b[38;2;30;71;6m#####6    \u001b[0m| 46/81 [00:00<00:00, 60.73it/s]\u001b[A\n",
      " 67%|\u001b[38;2;30;71;6m######6   \u001b[0m| 54/81 [00:00<00:00, 64.94it/s]\u001b[A\n",
      " 77%|\u001b[38;2;30;71;6m#######6  \u001b[0m| 62/81 [00:00<00:00, 66.05it/s]\u001b[A\n",
      " 85%|\u001b[38;2;30;71;6m########5 \u001b[0m| 69/81 [00:01<00:00, 66.94it/s]\u001b[A\n",
      " 95%|\u001b[38;2;30;71;6m#########5\u001b[0m| 77/81 [00:01<00:00, 69.48it/s]\u001b[A\n",
      "100%|\u001b[38;2;30;71;6m##########\u001b[0m| 81/81 [00:01<00:00, 67.94it/s]\n",
      "\u001b[32m2024-11-25 18:17:35.860\u001b[0m | \u001b[1mINFO    \u001b[0m | \u001b[36mmltrainer.trainer\u001b[0m:\u001b[36mreport\u001b[0m:\u001b[36m189\u001b[0m - \u001b[1mEpoch 6 train 1.0354 test 0.9785 metric ['0.5875']\u001b[0m\n",
      " 70%|\u001b[38;2;30;71;6m#######   \u001b[0m| 7/10 [00:09<00:04,  1.34s/it]\n",
      "  0%|\u001b[38;2;30;71;6m          \u001b[0m| 0/81 [00:00<?, ?it/s]\u001b[A\n",
      " 10%|\u001b[38;2;30;71;6m9         \u001b[0m| 8/81 [00:00<00:00, 73.81it/s]\u001b[A\n",
      " 20%|\u001b[38;2;30;71;6m#9        \u001b[0m| 16/81 [00:00<00:00, 76.99it/s]\u001b[A\n",
      " 30%|\u001b[38;2;30;71;6m##9       \u001b[0m| 24/81 [00:00<00:00, 74.89it/s]\u001b[A\n",
      " 40%|\u001b[38;2;30;71;6m###9      \u001b[0m| 32/81 [00:00<00:00, 71.08it/s]\u001b[A\n",
      " 49%|\u001b[38;2;30;71;6m####9     \u001b[0m| 40/81 [00:00<00:00, 72.60it/s]\u001b[A\n",
      " 59%|\u001b[38;2;30;71;6m#####9    \u001b[0m| 48/81 [00:00<00:00, 73.24it/s]\u001b[A\n",
      " 69%|\u001b[38;2;30;71;6m######9   \u001b[0m| 56/81 [00:00<00:00, 69.76it/s]\u001b[A\n",
      " 79%|\u001b[38;2;30;71;6m#######9  \u001b[0m| 64/81 [00:00<00:00, 69.97it/s]\u001b[A\n",
      " 89%|\u001b[38;2;30;71;6m########8 \u001b[0m| 72/81 [00:00<00:00, 71.73it/s]\u001b[A\n",
      " 99%|\u001b[38;2;30;71;6m#########8\u001b[0m| 80/81 [00:01<00:00, 73.09it/s]\u001b[A\n",
      "100%|\u001b[38;2;30;71;6m##########\u001b[0m| 81/81 [00:01<00:00, 72.31it/s]\n",
      "\u001b[32m2024-11-25 18:17:37.138\u001b[0m | \u001b[1mINFO    \u001b[0m | \u001b[36mmltrainer.trainer\u001b[0m:\u001b[36mreport\u001b[0m:\u001b[36m189\u001b[0m - \u001b[1mEpoch 7 train 0.8979 test 0.7617 metric ['0.6828']\u001b[0m\n",
      " 80%|\u001b[38;2;30;71;6m########  \u001b[0m| 8/10 [00:10<00:02,  1.32s/it]\n",
      "  0%|\u001b[38;2;30;71;6m          \u001b[0m| 0/81 [00:00<?, ?it/s]\u001b[A\n",
      "  5%|\u001b[38;2;30;71;6m4         \u001b[0m| 4/81 [00:00<00:02, 38.34it/s]\u001b[A\n",
      " 14%|\u001b[38;2;30;71;6m#3        \u001b[0m| 11/81 [00:00<00:01, 53.56it/s]\u001b[A\n",
      " 23%|\u001b[38;2;30;71;6m##3       \u001b[0m| 19/81 [00:00<00:00, 65.10it/s]\u001b[A\n",
      " 33%|\u001b[38;2;30;71;6m###3      \u001b[0m| 27/81 [00:00<00:00, 67.91it/s]\u001b[A\n",
      " 41%|\u001b[38;2;30;71;6m####      \u001b[0m| 33/81 [00:00<00:00, 64.48it/s]\n",
      " 80%|\u001b[38;2;30;71;6m########  \u001b[0m| 8/10 [00:11<00:02,  1.40s/it]\n"
     ]
    },
    {
     "name": "stdout",
     "output_type": "stream",
     "text": [
      "  0%|          | 0/3 [00:11<?, ?trial/s, best loss=?]\n"
     ]
    },
    {
     "ename": "KeyboardInterrupt",
     "evalue": "",
     "output_type": "error",
     "traceback": [
      "\u001b[0;31m---------------------------------------------------------------------------\u001b[0m",
      "\u001b[0;31mKeyboardInterrupt\u001b[0m                         Traceback (most recent call last)",
      "Cell \u001b[0;32mIn[16], line 1\u001b[0m\n\u001b[0;32m----> 1\u001b[0m best_result \u001b[38;5;241m=\u001b[39m \u001b[43mfmin\u001b[49m\u001b[43m(\u001b[49m\n\u001b[1;32m      2\u001b[0m \u001b[43m    \u001b[49m\u001b[43mfn\u001b[49m\u001b[38;5;241;43m=\u001b[39;49m\u001b[43mobjective\u001b[49m\u001b[43m,\u001b[49m\n\u001b[1;32m      3\u001b[0m \u001b[43m    \u001b[49m\u001b[43mspace\u001b[49m\u001b[38;5;241;43m=\u001b[39;49m\u001b[43msearch_space\u001b[49m\u001b[43m,\u001b[49m\n\u001b[1;32m      4\u001b[0m \u001b[43m    \u001b[49m\u001b[43malgo\u001b[49m\u001b[38;5;241;43m=\u001b[39;49m\u001b[43mtpe\u001b[49m\u001b[38;5;241;43m.\u001b[39;49m\u001b[43msuggest\u001b[49m\u001b[43m,\u001b[49m\n\u001b[1;32m      5\u001b[0m \u001b[43m    \u001b[49m\u001b[43mmax_evals\u001b[49m\u001b[38;5;241;43m=\u001b[39;49m\u001b[38;5;241;43m3\u001b[39;49m\u001b[43m,\u001b[49m\n\u001b[1;32m      6\u001b[0m \u001b[43m    \u001b[49m\u001b[43mtrials\u001b[49m\u001b[38;5;241;43m=\u001b[39;49m\u001b[43mTrials\u001b[49m\u001b[43m(\u001b[49m\u001b[43m)\u001b[49m\n\u001b[1;32m      7\u001b[0m \u001b[43m)\u001b[49m\n",
      "File \u001b[0;32m~/dl-training/MADS-MachineLearning-course/.venv/lib/python3.11/site-packages/hyperopt/fmin.py:540\u001b[0m, in \u001b[0;36mfmin\u001b[0;34m(fn, space, algo, max_evals, timeout, loss_threshold, trials, rstate, allow_trials_fmin, pass_expr_memo_ctrl, catch_eval_exceptions, verbose, return_argmin, points_to_evaluate, max_queue_len, show_progressbar, early_stop_fn, trials_save_file)\u001b[0m\n\u001b[1;32m    537\u001b[0m     fn \u001b[38;5;241m=\u001b[39m __objective_fmin_wrapper(fn)\n\u001b[1;32m    539\u001b[0m \u001b[38;5;28;01mif\u001b[39;00m allow_trials_fmin \u001b[38;5;129;01mand\u001b[39;00m \u001b[38;5;28mhasattr\u001b[39m(trials, \u001b[38;5;124m\"\u001b[39m\u001b[38;5;124mfmin\u001b[39m\u001b[38;5;124m\"\u001b[39m):\n\u001b[0;32m--> 540\u001b[0m     \u001b[38;5;28;01mreturn\u001b[39;00m \u001b[43mtrials\u001b[49m\u001b[38;5;241;43m.\u001b[39;49m\u001b[43mfmin\u001b[49m\u001b[43m(\u001b[49m\n\u001b[1;32m    541\u001b[0m \u001b[43m        \u001b[49m\u001b[43mfn\u001b[49m\u001b[43m,\u001b[49m\n\u001b[1;32m    542\u001b[0m \u001b[43m        \u001b[49m\u001b[43mspace\u001b[49m\u001b[43m,\u001b[49m\n\u001b[1;32m    543\u001b[0m \u001b[43m        \u001b[49m\u001b[43malgo\u001b[49m\u001b[38;5;241;43m=\u001b[39;49m\u001b[43malgo\u001b[49m\u001b[43m,\u001b[49m\n\u001b[1;32m    544\u001b[0m \u001b[43m        \u001b[49m\u001b[43mmax_evals\u001b[49m\u001b[38;5;241;43m=\u001b[39;49m\u001b[43mmax_evals\u001b[49m\u001b[43m,\u001b[49m\n\u001b[1;32m    545\u001b[0m \u001b[43m        \u001b[49m\u001b[43mtimeout\u001b[49m\u001b[38;5;241;43m=\u001b[39;49m\u001b[43mtimeout\u001b[49m\u001b[43m,\u001b[49m\n\u001b[1;32m    546\u001b[0m \u001b[43m        \u001b[49m\u001b[43mloss_threshold\u001b[49m\u001b[38;5;241;43m=\u001b[39;49m\u001b[43mloss_threshold\u001b[49m\u001b[43m,\u001b[49m\n\u001b[1;32m    547\u001b[0m \u001b[43m        \u001b[49m\u001b[43mmax_queue_len\u001b[49m\u001b[38;5;241;43m=\u001b[39;49m\u001b[43mmax_queue_len\u001b[49m\u001b[43m,\u001b[49m\n\u001b[1;32m    548\u001b[0m \u001b[43m        \u001b[49m\u001b[43mrstate\u001b[49m\u001b[38;5;241;43m=\u001b[39;49m\u001b[43mrstate\u001b[49m\u001b[43m,\u001b[49m\n\u001b[1;32m    549\u001b[0m \u001b[43m        \u001b[49m\u001b[43mpass_expr_memo_ctrl\u001b[49m\u001b[38;5;241;43m=\u001b[39;49m\u001b[43mpass_expr_memo_ctrl\u001b[49m\u001b[43m,\u001b[49m\n\u001b[1;32m    550\u001b[0m \u001b[43m        \u001b[49m\u001b[43mverbose\u001b[49m\u001b[38;5;241;43m=\u001b[39;49m\u001b[43mverbose\u001b[49m\u001b[43m,\u001b[49m\n\u001b[1;32m    551\u001b[0m \u001b[43m        \u001b[49m\u001b[43mcatch_eval_exceptions\u001b[49m\u001b[38;5;241;43m=\u001b[39;49m\u001b[43mcatch_eval_exceptions\u001b[49m\u001b[43m,\u001b[49m\n\u001b[1;32m    552\u001b[0m \u001b[43m        \u001b[49m\u001b[43mreturn_argmin\u001b[49m\u001b[38;5;241;43m=\u001b[39;49m\u001b[43mreturn_argmin\u001b[49m\u001b[43m,\u001b[49m\n\u001b[1;32m    553\u001b[0m \u001b[43m        \u001b[49m\u001b[43mshow_progressbar\u001b[49m\u001b[38;5;241;43m=\u001b[39;49m\u001b[43mshow_progressbar\u001b[49m\u001b[43m,\u001b[49m\n\u001b[1;32m    554\u001b[0m \u001b[43m        \u001b[49m\u001b[43mearly_stop_fn\u001b[49m\u001b[38;5;241;43m=\u001b[39;49m\u001b[43mearly_stop_fn\u001b[49m\u001b[43m,\u001b[49m\n\u001b[1;32m    555\u001b[0m \u001b[43m        \u001b[49m\u001b[43mtrials_save_file\u001b[49m\u001b[38;5;241;43m=\u001b[39;49m\u001b[43mtrials_save_file\u001b[49m\u001b[43m,\u001b[49m\n\u001b[1;32m    556\u001b[0m \u001b[43m    \u001b[49m\u001b[43m)\u001b[49m\n\u001b[1;32m    558\u001b[0m \u001b[38;5;28;01mif\u001b[39;00m trials \u001b[38;5;129;01mis\u001b[39;00m \u001b[38;5;28;01mNone\u001b[39;00m:\n\u001b[1;32m    559\u001b[0m     \u001b[38;5;28;01mif\u001b[39;00m os\u001b[38;5;241m.\u001b[39mpath\u001b[38;5;241m.\u001b[39mexists(trials_save_file):\n",
      "File \u001b[0;32m~/dl-training/MADS-MachineLearning-course/.venv/lib/python3.11/site-packages/hyperopt/base.py:671\u001b[0m, in \u001b[0;36mTrials.fmin\u001b[0;34m(self, fn, space, algo, max_evals, timeout, loss_threshold, max_queue_len, rstate, verbose, pass_expr_memo_ctrl, catch_eval_exceptions, return_argmin, show_progressbar, early_stop_fn, trials_save_file)\u001b[0m\n\u001b[1;32m    666\u001b[0m \u001b[38;5;66;03m# -- Stop-gap implementation!\u001b[39;00m\n\u001b[1;32m    667\u001b[0m \u001b[38;5;66;03m#    fmin should have been a Trials method in the first place\u001b[39;00m\n\u001b[1;32m    668\u001b[0m \u001b[38;5;66;03m#    but for now it's still sitting in another file.\u001b[39;00m\n\u001b[1;32m    669\u001b[0m \u001b[38;5;28;01mfrom\u001b[39;00m \u001b[38;5;21;01m.\u001b[39;00m\u001b[38;5;21;01mfmin\u001b[39;00m \u001b[38;5;28;01mimport\u001b[39;00m fmin\n\u001b[0;32m--> 671\u001b[0m \u001b[38;5;28;01mreturn\u001b[39;00m \u001b[43mfmin\u001b[49m\u001b[43m(\u001b[49m\n\u001b[1;32m    672\u001b[0m \u001b[43m    \u001b[49m\u001b[43mfn\u001b[49m\u001b[43m,\u001b[49m\n\u001b[1;32m    673\u001b[0m \u001b[43m    \u001b[49m\u001b[43mspace\u001b[49m\u001b[43m,\u001b[49m\n\u001b[1;32m    674\u001b[0m \u001b[43m    \u001b[49m\u001b[43malgo\u001b[49m\u001b[38;5;241;43m=\u001b[39;49m\u001b[43malgo\u001b[49m\u001b[43m,\u001b[49m\n\u001b[1;32m    675\u001b[0m \u001b[43m    \u001b[49m\u001b[43mmax_evals\u001b[49m\u001b[38;5;241;43m=\u001b[39;49m\u001b[43mmax_evals\u001b[49m\u001b[43m,\u001b[49m\n\u001b[1;32m    676\u001b[0m \u001b[43m    \u001b[49m\u001b[43mtimeout\u001b[49m\u001b[38;5;241;43m=\u001b[39;49m\u001b[43mtimeout\u001b[49m\u001b[43m,\u001b[49m\n\u001b[1;32m    677\u001b[0m \u001b[43m    \u001b[49m\u001b[43mloss_threshold\u001b[49m\u001b[38;5;241;43m=\u001b[39;49m\u001b[43mloss_threshold\u001b[49m\u001b[43m,\u001b[49m\n\u001b[1;32m    678\u001b[0m \u001b[43m    \u001b[49m\u001b[43mtrials\u001b[49m\u001b[38;5;241;43m=\u001b[39;49m\u001b[38;5;28;43mself\u001b[39;49m\u001b[43m,\u001b[49m\n\u001b[1;32m    679\u001b[0m \u001b[43m    \u001b[49m\u001b[43mrstate\u001b[49m\u001b[38;5;241;43m=\u001b[39;49m\u001b[43mrstate\u001b[49m\u001b[43m,\u001b[49m\n\u001b[1;32m    680\u001b[0m \u001b[43m    \u001b[49m\u001b[43mverbose\u001b[49m\u001b[38;5;241;43m=\u001b[39;49m\u001b[43mverbose\u001b[49m\u001b[43m,\u001b[49m\n\u001b[1;32m    681\u001b[0m \u001b[43m    \u001b[49m\u001b[43mmax_queue_len\u001b[49m\u001b[38;5;241;43m=\u001b[39;49m\u001b[43mmax_queue_len\u001b[49m\u001b[43m,\u001b[49m\n\u001b[1;32m    682\u001b[0m \u001b[43m    \u001b[49m\u001b[43mallow_trials_fmin\u001b[49m\u001b[38;5;241;43m=\u001b[39;49m\u001b[38;5;28;43;01mFalse\u001b[39;49;00m\u001b[43m,\u001b[49m\u001b[43m  \u001b[49m\u001b[38;5;66;43;03m# -- prevent recursion\u001b[39;49;00m\n\u001b[1;32m    683\u001b[0m \u001b[43m    \u001b[49m\u001b[43mpass_expr_memo_ctrl\u001b[49m\u001b[38;5;241;43m=\u001b[39;49m\u001b[43mpass_expr_memo_ctrl\u001b[49m\u001b[43m,\u001b[49m\n\u001b[1;32m    684\u001b[0m \u001b[43m    \u001b[49m\u001b[43mcatch_eval_exceptions\u001b[49m\u001b[38;5;241;43m=\u001b[39;49m\u001b[43mcatch_eval_exceptions\u001b[49m\u001b[43m,\u001b[49m\n\u001b[1;32m    685\u001b[0m \u001b[43m    \u001b[49m\u001b[43mreturn_argmin\u001b[49m\u001b[38;5;241;43m=\u001b[39;49m\u001b[43mreturn_argmin\u001b[49m\u001b[43m,\u001b[49m\n\u001b[1;32m    686\u001b[0m \u001b[43m    \u001b[49m\u001b[43mshow_progressbar\u001b[49m\u001b[38;5;241;43m=\u001b[39;49m\u001b[43mshow_progressbar\u001b[49m\u001b[43m,\u001b[49m\n\u001b[1;32m    687\u001b[0m \u001b[43m    \u001b[49m\u001b[43mearly_stop_fn\u001b[49m\u001b[38;5;241;43m=\u001b[39;49m\u001b[43mearly_stop_fn\u001b[49m\u001b[43m,\u001b[49m\n\u001b[1;32m    688\u001b[0m \u001b[43m    \u001b[49m\u001b[43mtrials_save_file\u001b[49m\u001b[38;5;241;43m=\u001b[39;49m\u001b[43mtrials_save_file\u001b[49m\u001b[43m,\u001b[49m\n\u001b[1;32m    689\u001b[0m \u001b[43m\u001b[49m\u001b[43m)\u001b[49m\n",
      "File \u001b[0;32m~/dl-training/MADS-MachineLearning-course/.venv/lib/python3.11/site-packages/hyperopt/fmin.py:586\u001b[0m, in \u001b[0;36mfmin\u001b[0;34m(fn, space, algo, max_evals, timeout, loss_threshold, trials, rstate, allow_trials_fmin, pass_expr_memo_ctrl, catch_eval_exceptions, verbose, return_argmin, points_to_evaluate, max_queue_len, show_progressbar, early_stop_fn, trials_save_file)\u001b[0m\n\u001b[1;32m    583\u001b[0m rval\u001b[38;5;241m.\u001b[39mcatch_eval_exceptions \u001b[38;5;241m=\u001b[39m catch_eval_exceptions\n\u001b[1;32m    585\u001b[0m \u001b[38;5;66;03m# next line is where the fmin is actually executed\u001b[39;00m\n\u001b[0;32m--> 586\u001b[0m \u001b[43mrval\u001b[49m\u001b[38;5;241;43m.\u001b[39;49m\u001b[43mexhaust\u001b[49m\u001b[43m(\u001b[49m\u001b[43m)\u001b[49m\n\u001b[1;32m    588\u001b[0m \u001b[38;5;28;01mif\u001b[39;00m return_argmin:\n\u001b[1;32m    589\u001b[0m     \u001b[38;5;28;01mif\u001b[39;00m \u001b[38;5;28mlen\u001b[39m(trials\u001b[38;5;241m.\u001b[39mtrials) \u001b[38;5;241m==\u001b[39m \u001b[38;5;241m0\u001b[39m:\n",
      "File \u001b[0;32m~/dl-training/MADS-MachineLearning-course/.venv/lib/python3.11/site-packages/hyperopt/fmin.py:364\u001b[0m, in \u001b[0;36mFMinIter.exhaust\u001b[0;34m(self)\u001b[0m\n\u001b[1;32m    362\u001b[0m \u001b[38;5;28;01mdef\u001b[39;00m \u001b[38;5;21mexhaust\u001b[39m(\u001b[38;5;28mself\u001b[39m):\n\u001b[1;32m    363\u001b[0m     n_done \u001b[38;5;241m=\u001b[39m \u001b[38;5;28mlen\u001b[39m(\u001b[38;5;28mself\u001b[39m\u001b[38;5;241m.\u001b[39mtrials)\n\u001b[0;32m--> 364\u001b[0m     \u001b[38;5;28;43mself\u001b[39;49m\u001b[38;5;241;43m.\u001b[39;49m\u001b[43mrun\u001b[49m\u001b[43m(\u001b[49m\u001b[38;5;28;43mself\u001b[39;49m\u001b[38;5;241;43m.\u001b[39;49m\u001b[43mmax_evals\u001b[49m\u001b[43m \u001b[49m\u001b[38;5;241;43m-\u001b[39;49m\u001b[43m \u001b[49m\u001b[43mn_done\u001b[49m\u001b[43m,\u001b[49m\u001b[43m \u001b[49m\u001b[43mblock_until_done\u001b[49m\u001b[38;5;241;43m=\u001b[39;49m\u001b[38;5;28;43mself\u001b[39;49m\u001b[38;5;241;43m.\u001b[39;49m\u001b[43masynchronous\u001b[49m\u001b[43m)\u001b[49m\n\u001b[1;32m    365\u001b[0m     \u001b[38;5;28mself\u001b[39m\u001b[38;5;241m.\u001b[39mtrials\u001b[38;5;241m.\u001b[39mrefresh()\n\u001b[1;32m    366\u001b[0m     \u001b[38;5;28;01mreturn\u001b[39;00m \u001b[38;5;28mself\u001b[39m\n",
      "File \u001b[0;32m~/dl-training/MADS-MachineLearning-course/.venv/lib/python3.11/site-packages/hyperopt/fmin.py:300\u001b[0m, in \u001b[0;36mFMinIter.run\u001b[0;34m(self, N, block_until_done)\u001b[0m\n\u001b[1;32m    297\u001b[0m     time\u001b[38;5;241m.\u001b[39msleep(\u001b[38;5;28mself\u001b[39m\u001b[38;5;241m.\u001b[39mpoll_interval_secs)\n\u001b[1;32m    298\u001b[0m \u001b[38;5;28;01melse\u001b[39;00m:\n\u001b[1;32m    299\u001b[0m     \u001b[38;5;66;03m# -- loop over trials and do the jobs directly\u001b[39;00m\n\u001b[0;32m--> 300\u001b[0m     \u001b[38;5;28;43mself\u001b[39;49m\u001b[38;5;241;43m.\u001b[39;49m\u001b[43mserial_evaluate\u001b[49m\u001b[43m(\u001b[49m\u001b[43m)\u001b[49m\n\u001b[1;32m    302\u001b[0m \u001b[38;5;28mself\u001b[39m\u001b[38;5;241m.\u001b[39mtrials\u001b[38;5;241m.\u001b[39mrefresh()\n\u001b[1;32m    303\u001b[0m \u001b[38;5;28;01mif\u001b[39;00m \u001b[38;5;28mself\u001b[39m\u001b[38;5;241m.\u001b[39mtrials_save_file \u001b[38;5;241m!=\u001b[39m \u001b[38;5;124m\"\u001b[39m\u001b[38;5;124m\"\u001b[39m:\n",
      "File \u001b[0;32m~/dl-training/MADS-MachineLearning-course/.venv/lib/python3.11/site-packages/hyperopt/fmin.py:178\u001b[0m, in \u001b[0;36mFMinIter.serial_evaluate\u001b[0;34m(self, N)\u001b[0m\n\u001b[1;32m    176\u001b[0m ctrl \u001b[38;5;241m=\u001b[39m base\u001b[38;5;241m.\u001b[39mCtrl(\u001b[38;5;28mself\u001b[39m\u001b[38;5;241m.\u001b[39mtrials, current_trial\u001b[38;5;241m=\u001b[39mtrial)\n\u001b[1;32m    177\u001b[0m \u001b[38;5;28;01mtry\u001b[39;00m:\n\u001b[0;32m--> 178\u001b[0m     result \u001b[38;5;241m=\u001b[39m \u001b[38;5;28;43mself\u001b[39;49m\u001b[38;5;241;43m.\u001b[39;49m\u001b[43mdomain\u001b[49m\u001b[38;5;241;43m.\u001b[39;49m\u001b[43mevaluate\u001b[49m\u001b[43m(\u001b[49m\u001b[43mspec\u001b[49m\u001b[43m,\u001b[49m\u001b[43m \u001b[49m\u001b[43mctrl\u001b[49m\u001b[43m)\u001b[49m\n\u001b[1;32m    179\u001b[0m \u001b[38;5;28;01mexcept\u001b[39;00m \u001b[38;5;167;01mException\u001b[39;00m \u001b[38;5;28;01mas\u001b[39;00m e:\n\u001b[1;32m    180\u001b[0m     logger\u001b[38;5;241m.\u001b[39merror(\u001b[38;5;124m\"\u001b[39m\u001b[38;5;124mjob exception: \u001b[39m\u001b[38;5;132;01m%s\u001b[39;00m\u001b[38;5;124m\"\u001b[39m \u001b[38;5;241m%\u001b[39m \u001b[38;5;28mstr\u001b[39m(e))\n",
      "File \u001b[0;32m~/dl-training/MADS-MachineLearning-course/.venv/lib/python3.11/site-packages/hyperopt/base.py:892\u001b[0m, in \u001b[0;36mDomain.evaluate\u001b[0;34m(self, config, ctrl, attach_attachments)\u001b[0m\n\u001b[1;32m    883\u001b[0m \u001b[38;5;28;01melse\u001b[39;00m:\n\u001b[1;32m    884\u001b[0m     \u001b[38;5;66;03m# -- the \"work\" of evaluating `config` can be written\u001b[39;00m\n\u001b[1;32m    885\u001b[0m     \u001b[38;5;66;03m#    either into the pyll part (self.expr)\u001b[39;00m\n\u001b[1;32m    886\u001b[0m     \u001b[38;5;66;03m#    or the normal Python part (self.fn)\u001b[39;00m\n\u001b[1;32m    887\u001b[0m     pyll_rval \u001b[38;5;241m=\u001b[39m pyll\u001b[38;5;241m.\u001b[39mrec_eval(\n\u001b[1;32m    888\u001b[0m         \u001b[38;5;28mself\u001b[39m\u001b[38;5;241m.\u001b[39mexpr,\n\u001b[1;32m    889\u001b[0m         memo\u001b[38;5;241m=\u001b[39mmemo,\n\u001b[1;32m    890\u001b[0m         print_node_on_error\u001b[38;5;241m=\u001b[39m\u001b[38;5;28mself\u001b[39m\u001b[38;5;241m.\u001b[39mrec_eval_print_node_on_error,\n\u001b[1;32m    891\u001b[0m     )\n\u001b[0;32m--> 892\u001b[0m     rval \u001b[38;5;241m=\u001b[39m \u001b[38;5;28;43mself\u001b[39;49m\u001b[38;5;241;43m.\u001b[39;49m\u001b[43mfn\u001b[49m\u001b[43m(\u001b[49m\u001b[43mpyll_rval\u001b[49m\u001b[43m)\u001b[49m\n\u001b[1;32m    894\u001b[0m \u001b[38;5;28;01mif\u001b[39;00m \u001b[38;5;28misinstance\u001b[39m(rval, (\u001b[38;5;28mfloat\u001b[39m, \u001b[38;5;28mint\u001b[39m, np\u001b[38;5;241m.\u001b[39mnumber)):\n\u001b[1;32m    895\u001b[0m     dict_rval \u001b[38;5;241m=\u001b[39m {\u001b[38;5;124m\"\u001b[39m\u001b[38;5;124mloss\u001b[39m\u001b[38;5;124m\"\u001b[39m: \u001b[38;5;28mfloat\u001b[39m(rval), \u001b[38;5;124m\"\u001b[39m\u001b[38;5;124mstatus\u001b[39m\u001b[38;5;124m\"\u001b[39m: STATUS_OK}\n",
      "Cell \u001b[0;32mIn[11], line 33\u001b[0m, in \u001b[0;36mobjective\u001b[0;34m(params)\u001b[0m\n\u001b[1;32m     22\u001b[0m \u001b[38;5;66;03m# train the model using a custom train loop\u001b[39;00m\n\u001b[1;32m     23\u001b[0m trainer \u001b[38;5;241m=\u001b[39m Trainer(\n\u001b[1;32m     24\u001b[0m     model\u001b[38;5;241m=\u001b[39mmodel,\n\u001b[1;32m     25\u001b[0m     settings\u001b[38;5;241m=\u001b[39msettings,\n\u001b[0;32m   (...)\u001b[0m\n\u001b[1;32m     31\u001b[0m     device\u001b[38;5;241m=\u001b[39m\u001b[38;5;124m\"\u001b[39m\u001b[38;5;124mcpu\u001b[39m\u001b[38;5;124m\"\u001b[39m,\n\u001b[1;32m     32\u001b[0m )\n\u001b[0;32m---> 33\u001b[0m \u001b[43mtrainer\u001b[49m\u001b[38;5;241;43m.\u001b[39;49m\u001b[43mloop\u001b[49m\u001b[43m(\u001b[49m\u001b[43m)\u001b[49m\n\u001b[1;32m     35\u001b[0m \u001b[38;5;66;03m# save the trained model with a timestamp\u001b[39;00m\n\u001b[1;32m     36\u001b[0m tag \u001b[38;5;241m=\u001b[39m datetime\u001b[38;5;241m.\u001b[39mnow()\u001b[38;5;241m.\u001b[39mstrftime(\u001b[38;5;124m\"\u001b[39m\u001b[38;5;124m%\u001b[39m\u001b[38;5;124mY\u001b[39m\u001b[38;5;124m%\u001b[39m\u001b[38;5;124mm\u001b[39m\u001b[38;5;132;01m%d\u001b[39;00m\u001b[38;5;124m-\u001b[39m\u001b[38;5;124m%\u001b[39m\u001b[38;5;124mH\u001b[39m\u001b[38;5;124m%\u001b[39m\u001b[38;5;124mM\u001b[39m\u001b[38;5;124m\"\u001b[39m)\n",
      "File \u001b[0;32m~/dl-training/MADS-MachineLearning-course/.venv/lib/python3.11/site-packages/mltrainer/trainer.py:88\u001b[0m, in \u001b[0;36mTrainer.loop\u001b[0;34m(self)\u001b[0m\n\u001b[1;32m     86\u001b[0m \u001b[38;5;28;01mdef\u001b[39;00m \u001b[38;5;21mloop\u001b[39m(\u001b[38;5;28mself\u001b[39m) \u001b[38;5;241m-\u001b[39m\u001b[38;5;241m>\u001b[39m \u001b[38;5;28;01mNone\u001b[39;00m:\n\u001b[1;32m     87\u001b[0m     \u001b[38;5;28;01mfor\u001b[39;00m epoch \u001b[38;5;129;01min\u001b[39;00m tqdm(\u001b[38;5;28mrange\u001b[39m(\u001b[38;5;28mself\u001b[39m\u001b[38;5;241m.\u001b[39msettings\u001b[38;5;241m.\u001b[39mepochs), colour\u001b[38;5;241m=\u001b[39m\u001b[38;5;124m\"\u001b[39m\u001b[38;5;124m#1e4706\u001b[39m\u001b[38;5;124m\"\u001b[39m):\n\u001b[0;32m---> 88\u001b[0m         train_loss \u001b[38;5;241m=\u001b[39m \u001b[38;5;28;43mself\u001b[39;49m\u001b[38;5;241;43m.\u001b[39;49m\u001b[43mtrainbatches\u001b[49m\u001b[43m(\u001b[49m\u001b[43m)\u001b[49m\n\u001b[1;32m     89\u001b[0m         metric_dict, test_loss \u001b[38;5;241m=\u001b[39m \u001b[38;5;28mself\u001b[39m\u001b[38;5;241m.\u001b[39mevalbatches()\n\u001b[1;32m     90\u001b[0m         \u001b[38;5;28mself\u001b[39m\u001b[38;5;241m.\u001b[39mreport(epoch, train_loss, test_loss, metric_dict)\n",
      "File \u001b[0;32m~/dl-training/MADS-MachineLearning-course/.venv/lib/python3.11/site-packages/mltrainer/trainer.py:120\u001b[0m, in \u001b[0;36mTrainer.trainbatches\u001b[0;34m(self)\u001b[0m\n\u001b[1;32m    118\u001b[0m yhat \u001b[38;5;241m=\u001b[39m \u001b[38;5;28mself\u001b[39m\u001b[38;5;241m.\u001b[39mmodel(x)\n\u001b[1;32m    119\u001b[0m loss \u001b[38;5;241m=\u001b[39m \u001b[38;5;28mself\u001b[39m\u001b[38;5;241m.\u001b[39mloss_fn(yhat, y)\n\u001b[0;32m--> 120\u001b[0m \u001b[43mloss\u001b[49m\u001b[38;5;241;43m.\u001b[39;49m\u001b[43mbackward\u001b[49m\u001b[43m(\u001b[49m\u001b[43m)\u001b[49m\n\u001b[1;32m    121\u001b[0m \u001b[38;5;28mself\u001b[39m\u001b[38;5;241m.\u001b[39moptimizer\u001b[38;5;241m.\u001b[39mstep()\n\u001b[1;32m    122\u001b[0m train_loss \u001b[38;5;241m+\u001b[39m\u001b[38;5;241m=\u001b[39m loss\u001b[38;5;241m.\u001b[39mcpu()\u001b[38;5;241m.\u001b[39mdetach()\u001b[38;5;241m.\u001b[39mnumpy()\n",
      "File \u001b[0;32m~/dl-training/MADS-MachineLearning-course/.venv/lib/python3.11/site-packages/torch/_tensor.py:525\u001b[0m, in \u001b[0;36mTensor.backward\u001b[0;34m(self, gradient, retain_graph, create_graph, inputs)\u001b[0m\n\u001b[1;32m    515\u001b[0m \u001b[38;5;28;01mif\u001b[39;00m has_torch_function_unary(\u001b[38;5;28mself\u001b[39m):\n\u001b[1;32m    516\u001b[0m     \u001b[38;5;28;01mreturn\u001b[39;00m handle_torch_function(\n\u001b[1;32m    517\u001b[0m         Tensor\u001b[38;5;241m.\u001b[39mbackward,\n\u001b[1;32m    518\u001b[0m         (\u001b[38;5;28mself\u001b[39m,),\n\u001b[0;32m   (...)\u001b[0m\n\u001b[1;32m    523\u001b[0m         inputs\u001b[38;5;241m=\u001b[39minputs,\n\u001b[1;32m    524\u001b[0m     )\n\u001b[0;32m--> 525\u001b[0m \u001b[43mtorch\u001b[49m\u001b[38;5;241;43m.\u001b[39;49m\u001b[43mautograd\u001b[49m\u001b[38;5;241;43m.\u001b[39;49m\u001b[43mbackward\u001b[49m\u001b[43m(\u001b[49m\n\u001b[1;32m    526\u001b[0m \u001b[43m    \u001b[49m\u001b[38;5;28;43mself\u001b[39;49m\u001b[43m,\u001b[49m\u001b[43m \u001b[49m\u001b[43mgradient\u001b[49m\u001b[43m,\u001b[49m\u001b[43m \u001b[49m\u001b[43mretain_graph\u001b[49m\u001b[43m,\u001b[49m\u001b[43m \u001b[49m\u001b[43mcreate_graph\u001b[49m\u001b[43m,\u001b[49m\u001b[43m \u001b[49m\u001b[43minputs\u001b[49m\u001b[38;5;241;43m=\u001b[39;49m\u001b[43minputs\u001b[49m\n\u001b[1;32m    527\u001b[0m \u001b[43m\u001b[49m\u001b[43m)\u001b[49m\n",
      "File \u001b[0;32m~/dl-training/MADS-MachineLearning-course/.venv/lib/python3.11/site-packages/torch/autograd/__init__.py:267\u001b[0m, in \u001b[0;36mbackward\u001b[0;34m(tensors, grad_tensors, retain_graph, create_graph, grad_variables, inputs)\u001b[0m\n\u001b[1;32m    262\u001b[0m     retain_graph \u001b[38;5;241m=\u001b[39m create_graph\n\u001b[1;32m    264\u001b[0m \u001b[38;5;66;03m# The reason we repeat the same comment below is that\u001b[39;00m\n\u001b[1;32m    265\u001b[0m \u001b[38;5;66;03m# some Python versions print out the first line of a multi-line function\u001b[39;00m\n\u001b[1;32m    266\u001b[0m \u001b[38;5;66;03m# calls in the traceback and some print out the last line\u001b[39;00m\n\u001b[0;32m--> 267\u001b[0m \u001b[43m_engine_run_backward\u001b[49m\u001b[43m(\u001b[49m\n\u001b[1;32m    268\u001b[0m \u001b[43m    \u001b[49m\u001b[43mtensors\u001b[49m\u001b[43m,\u001b[49m\n\u001b[1;32m    269\u001b[0m \u001b[43m    \u001b[49m\u001b[43mgrad_tensors_\u001b[49m\u001b[43m,\u001b[49m\n\u001b[1;32m    270\u001b[0m \u001b[43m    \u001b[49m\u001b[43mretain_graph\u001b[49m\u001b[43m,\u001b[49m\n\u001b[1;32m    271\u001b[0m \u001b[43m    \u001b[49m\u001b[43mcreate_graph\u001b[49m\u001b[43m,\u001b[49m\n\u001b[1;32m    272\u001b[0m \u001b[43m    \u001b[49m\u001b[43minputs\u001b[49m\u001b[43m,\u001b[49m\n\u001b[1;32m    273\u001b[0m \u001b[43m    \u001b[49m\u001b[43mallow_unreachable\u001b[49m\u001b[38;5;241;43m=\u001b[39;49m\u001b[38;5;28;43;01mTrue\u001b[39;49;00m\u001b[43m,\u001b[49m\n\u001b[1;32m    274\u001b[0m \u001b[43m    \u001b[49m\u001b[43maccumulate_grad\u001b[49m\u001b[38;5;241;43m=\u001b[39;49m\u001b[38;5;28;43;01mTrue\u001b[39;49;00m\u001b[43m,\u001b[49m\n\u001b[1;32m    275\u001b[0m \u001b[43m\u001b[49m\u001b[43m)\u001b[49m\n",
      "File \u001b[0;32m~/dl-training/MADS-MachineLearning-course/.venv/lib/python3.11/site-packages/torch/autograd/graph.py:744\u001b[0m, in \u001b[0;36m_engine_run_backward\u001b[0;34m(t_outputs, *args, **kwargs)\u001b[0m\n\u001b[1;32m    742\u001b[0m     unregister_hooks \u001b[38;5;241m=\u001b[39m _register_logging_hooks_on_whole_graph(t_outputs)\n\u001b[1;32m    743\u001b[0m \u001b[38;5;28;01mtry\u001b[39;00m:\n\u001b[0;32m--> 744\u001b[0m     \u001b[38;5;28;01mreturn\u001b[39;00m \u001b[43mVariable\u001b[49m\u001b[38;5;241;43m.\u001b[39;49m\u001b[43m_execution_engine\u001b[49m\u001b[38;5;241;43m.\u001b[39;49m\u001b[43mrun_backward\u001b[49m\u001b[43m(\u001b[49m\u001b[43m  \u001b[49m\u001b[38;5;66;43;03m# Calls into the C++ engine to run the backward pass\u001b[39;49;00m\n\u001b[1;32m    745\u001b[0m \u001b[43m        \u001b[49m\u001b[43mt_outputs\u001b[49m\u001b[43m,\u001b[49m\u001b[43m \u001b[49m\u001b[38;5;241;43m*\u001b[39;49m\u001b[43margs\u001b[49m\u001b[43m,\u001b[49m\u001b[43m \u001b[49m\u001b[38;5;241;43m*\u001b[39;49m\u001b[38;5;241;43m*\u001b[39;49m\u001b[43mkwargs\u001b[49m\n\u001b[1;32m    746\u001b[0m \u001b[43m    \u001b[49m\u001b[43m)\u001b[49m  \u001b[38;5;66;03m# Calls into the C++ engine to run the backward pass\u001b[39;00m\n\u001b[1;32m    747\u001b[0m \u001b[38;5;28;01mfinally\u001b[39;00m:\n\u001b[1;32m    748\u001b[0m     \u001b[38;5;28;01mif\u001b[39;00m attach_logging_hooks:\n",
      "\u001b[0;31mKeyboardInterrupt\u001b[0m: "
     ]
    }
   ],
   "source": [
    "best_result = fmin(\n",
    "    fn=objective,\n",
    "    space=search_space,\n",
    "    algo=tpe.suggest,\n",
    "    max_evals=3,\n",
    "    trials=Trials()\n",
    ")"
   ]
  },
  {
   "cell_type": "code",
   "execution_count": null,
   "metadata": {},
   "outputs": [],
   "source": []
  }
 ],
 "metadata": {
  "kernelspec": {
   "display_name": ".venv",
   "language": "python",
   "name": "python3"
  },
  "language_info": {
   "codemirror_mode": {
    "name": "ipython",
    "version": 3
   },
   "file_extension": ".py",
   "mimetype": "text/x-python",
   "name": "python",
   "nbconvert_exporter": "python",
   "pygments_lexer": "ipython3",
   "version": "3.11.9"
  }
 },
 "nbformat": 4,
 "nbformat_minor": 2
}
